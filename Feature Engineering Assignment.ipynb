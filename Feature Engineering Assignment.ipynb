{
 "cells": [
  {
   "cell_type": "markdown",
   "id": "8a3451ae-64b6-4d36-9806-adbcd11723ce",
   "metadata": {},
   "source": [
    "Q1: Define overfitting and underfitting in machine learning. What are the consequences of each, and how \n",
    "can they be mitigated?"
   ]
  },
  {
   "cell_type": "markdown",
   "id": "61a1417d-bab4-49f1-a853-bd5f23dd72ec",
   "metadata": {},
   "source": [
    "Ans. When the trained data is perfoming well and gives accuracy of 96% and when test data is not performing well and gives accuracy of 65% then we call it as overfitting. It indicates low bias, high variance.\n",
    "\n",
    "\n",
    "When the trained data is performing 60% and test data is performing 56% we can say it as underfitting.\n",
    "We can also say this as high bias and high variance.\n",
    "\n"
   ]
  },
  {
   "cell_type": "markdown",
   "id": "6d066d47-0c2d-4700-bea8-0f0dc539d464",
   "metadata": {},
   "source": [
    "Q2: How can we reduce overfitting? Explain in brief."
   ]
  },
  {
   "cell_type": "markdown",
   "id": "134b1c15-d9dc-44d1-9cf1-ad239fcb9338",
   "metadata": {},
   "source": [
    "Ans. Overfitting happens when a model learns the training data too well, including noise and outliers, to the extent that it doesn't generalize well to new, unseen data. While training the model with new variations and unseen data is one strategy, there are additional techniques to mitigate overfitting. These include cross-validation, regularization, dropout, and other methods aimed at creating a more robust and generalizable model."
   ]
  },
  {
   "cell_type": "markdown",
   "id": "842d7fdf-a656-4b54-a919-0cf66dbfa0a4",
   "metadata": {},
   "source": [
    "Q3: Explain underfitting. List scenarios where underfitting can occur in ML"
   ]
  },
  {
   "cell_type": "markdown",
   "id": "f4f87912-46bb-48c7-be62-cd89904f78c5",
   "metadata": {},
   "source": [
    "Ans. Scenarios where underfitting can occur in machine learning include:\n",
    "\n",
    "Simple Model Selection: Choosing a model that is too basic or has insufficient complexity to represent the underlying patterns in the data.\n",
    "\n",
    "Insufficient Training: If the model is not trained for a sufficient number of epochs or lacks exposure to a diverse set of training examples, it may not capture the underlying relationships in the data.\n",
    "\n",
    "Feature Insufficiency: When important features are not included in the model, it may fail to grasp the complexity of the data, leading to underfitting."
   ]
  },
  {
   "cell_type": "markdown",
   "id": "755d64c3-d365-488b-9a29-aa0944db9d6b",
   "metadata": {},
   "source": [
    "Q4: Explain the bias-variance tradeoff in machine learning. What is the relationship between bias and \n",
    "variance, and how do they affect model performance?"
   ]
  },
  {
   "cell_type": "markdown",
   "id": "d2a3b96d-ff2b-4b4c-a6a5-cec771f4aae9",
   "metadata": {},
   "source": [
    "Underfitting (High Bias):\n",
    "\n",
    "Model is too simple.\n",
    "Fails to capture important patterns.\n",
    "Performs poorly on both training and test data.\n",
    "\n",
    "\n",
    "Overfitting (High Variance):\n",
    "\n",
    "Model is too complex.\n",
    "Fits noise in the training data.\n",
    "Performs well on training data but poorly on test data."
   ]
  },
  {
   "cell_type": "markdown",
   "id": "269444e5-c670-4102-a9c6-d5ac79917887",
   "metadata": {},
   "source": [
    "Q5.What are missing values in a dataset? Why is it essential to handle missing values? Name some \n",
    "algorithms that are not affected by missing values."
   ]
  },
  {
   "cell_type": "markdown",
   "id": "4d175ccd-7cec-41ba-aa94-6c2c02d8716d",
   "metadata": {},
   "source": [
    "Ans. \n",
    "Missing values in a dataset refer to the absence of data for certain observations or variables. These missing values can occur for various reasons, such as data collection errors, equipment malfunctions, or participants choosing not to provide certain information.\n",
    "\n",
    "If missing values are not handled the model may not perform well. \n",
    "\n",
    "1. KNN\n",
    "2. XG BOOST\n"
   ]
  },
  {
   "cell_type": "markdown",
   "id": "563de419-a2e3-4198-9869-947ad09570c1",
   "metadata": {},
   "source": [
    "Q6: List down techniques used to handle missing data.  Give an example of each with python code."
   ]
  },
  {
   "cell_type": "markdown",
   "id": "b0ac480e-530a-470f-8919-37da4269fed2",
   "metadata": {},
   "source": [
    "1. MEAN, ,MEDIAN & MODE \n",
    "2. INTERPOLATION"
   ]
  },
  {
   "cell_type": "markdown",
   "id": "06ab5401-4601-4d69-8bbc-a0b69257018e",
   "metadata": {},
   "source": [
    "import pandas as pd\n",
    "\n",
    "# Assuming df is DataFrame\n",
    "mean_imputed_df = df.fillna(df.mean())  # Mean imputation\n",
    "\n",
    "median_imputed_df = df.fillna(df.median())  # Median imputation\n",
    "\n",
    "mode_imputed_df = df.fillna(df.mode().iloc[0])  # Mode imputation\n"
   ]
  },
  {
   "cell_type": "markdown",
   "id": "4395b731-eb7f-4dc0-8df7-5608e966e56e",
   "metadata": {},
   "source": [
    "q7. Explain the imbalanced data. What will happen if imbalanced data is not handled?"
   ]
  },
  {
   "cell_type": "markdown",
   "id": "a23001c2-8e27-471a-952a-517443024265",
   "metadata": {},
   "source": [
    "Ans. We get biased results if in a dataset we have 900 values as yes and only 100 values as no. We can say that dataset is imabalanced and it is biased towards yes, mostly in this case we get results as yes and if we apply any algorithm also it won't perform well. In this case we have to make sure the data is in balanced state."
   ]
  },
  {
   "cell_type": "markdown",
   "id": "d25af082-66b0-45cc-8c05-d9cc67ce77ee",
   "metadata": {},
   "source": [
    "Q8: What are Up-sampling and Down-sampling? Explain with an example when up-sampling and down\u0002sampling are required."
   ]
  },
  {
   "cell_type": "markdown",
   "id": "8eecbc12-1da9-4de5-a6b0-0109b7a37165",
   "metadata": {},
   "source": [
    "Ans. Up sampling: - It is done to increase the number of artifical points that are in less from above example we can see that we have only 100 no and 900 yes so with the help of upsampling we increase the number of no datapoints so that our model can perform well. Which means we create additional 800 no datapoints."
   ]
  },
  {
   "cell_type": "markdown",
   "id": "60d9b9de-4bed-49f4-ae08-cf040c9246ac",
   "metadata": {},
   "source": [
    "Down Sampling:- It is done to decrease the number of  points from sample example if we see there are only 100 no so by doing downsampling we reduce the data points of yes to 100 and apply machine algorithm to it."
   ]
  },
  {
   "cell_type": "markdown",
   "id": "80733518-5870-478f-83e9-509f41f50d65",
   "metadata": {},
   "source": [
    "Q9: What is data Augmentation? Explain SMOTE."
   ]
  },
  {
   "cell_type": "markdown",
   "id": "9d4321b8-0ba3-44d4-a33e-0500b9df08ab",
   "metadata": {},
   "source": [
    "Data Augmentation: Used to increase the diversity of the entire dataset, not specifically addressing class imbalance. It creates new instances with variations in the existing data.\n",
    "\n",
    "SMOTE: Specifically designed to address class imbalance by creating synthetic instances for the minority class. It focuses on generating synthetic samples for the minority class to ensure a more balanced distribution."
   ]
  },
  {
   "cell_type": "markdown",
   "id": "ac66d650-e5f6-4279-b56d-39cbcaceea2f",
   "metadata": {},
   "source": [
    "Q10. What are outliers in a dataset? Why is it essential to handle outliers?"
   ]
  },
  {
   "cell_type": "markdown",
   "id": "595ceeda-a4da-458b-91cd-596d0f8ea314",
   "metadata": {},
   "source": [
    "Outliers are data points that significantly differ from the rest of the observations in a dataset. These points are often unusual or unexpected when compared to the majority of the data and can have a notable impact on statistical analyses and machine learning models.\n",
    " \n",
    "Because of outliers the whole model performance may change and its better to find out the outliers with the help of boxplot or another technique. "
   ]
  },
  {
   "cell_type": "markdown",
   "id": "aac1ed43-8b35-450f-be3d-f88a8707a371",
   "metadata": {},
   "source": [
    "Q11. You are working on a project that requires analyzing customer data. However, you notice that some of \n",
    "the data is missing. What are some techniques you can use to handle the missing data in your analysis?"
   ]
  },
  {
   "cell_type": "markdown",
   "id": "b74fe4d3-f51c-4a80-b2b5-44f8b70726fc",
   "metadata": {},
   "source": [
    "1. Mean, Median, Mode\n",
    "2. Interpolation\n",
    "3. Remove Missing values"
   ]
  },
  {
   "cell_type": "markdown",
   "id": "cff0d581-5e39-4c7d-a001-d92d005d4d74",
   "metadata": {},
   "source": [
    "Q12. You are working with a large dataset and find that a small percentage of the data is missing. What are \n",
    "some strategies you can use to determine if the missing data is missing at random or if there is a pattern \n",
    "to the missing data"
   ]
  },
  {
   "cell_type": "markdown",
   "id": "36e6f91c-107c-42db-a372-c539d6fef2ce",
   "metadata": {},
   "source": [
    "Ans. SMOTE"
   ]
  },
  {
   "cell_type": "markdown",
   "id": "4085201b-6917-4e2a-bff3-dd74abedcafb",
   "metadata": {},
   "source": [
    "Q13. When attempting to estimate customer satisfaction for a project, you discover that the dataset is \n",
    "unbalanced, with the bulk of customers reporting being satisfied. What methods can you employ to \n",
    "balance the dataset and down-sample the majority class?"
   ]
  },
  {
   "cell_type": "markdown",
   "id": "364f623b-9ac3-4915-92ca-f14a651cd53b",
   "metadata": {},
   "source": [
    "Under Sampling"
   ]
  },
  {
   "cell_type": "markdown",
   "id": "eb6771f9-27e1-488b-9bb4-e26c69a81cc4",
   "metadata": {},
   "source": [
    "Q14.  You discover that the dataset is unbalanced with a low percentage of occurrences while working on a \n",
    "project that requires you to estimate the occurrence of a rare event. What methods can you employ to \n",
    "balance the dataset and up-sample the minority class?"
   ]
  },
  {
   "cell_type": "markdown",
   "id": "02ee6aef-2385-4622-86f5-1943f3083f2d",
   "metadata": {},
   "source": [
    "Ans.\n",
    "\n",
    "1. over sampling \n",
    "\n",
    "2. SMOTE"
   ]
  }
 ],
 "metadata": {
  "kernelspec": {
   "display_name": "Python 3 (ipykernel)",
   "language": "python",
   "name": "python3"
  },
  "language_info": {
   "codemirror_mode": {
    "name": "ipython",
    "version": 3
   },
   "file_extension": ".py",
   "mimetype": "text/x-python",
   "name": "python",
   "nbconvert_exporter": "python",
   "pygments_lexer": "ipython3",
   "version": "3.10.8"
  }
 },
 "nbformat": 4,
 "nbformat_minor": 5
}
